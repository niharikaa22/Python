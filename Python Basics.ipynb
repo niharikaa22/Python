{
 "cells": [
  {
   "cell_type": "markdown",
   "metadata": {},
   "source": [
    "#### Jupyter Notebook:\n",
    "## Two Ways:\n",
    "1. MarkDown\n",
    "2. Code\n",
    "\n",
    "\n",
    "### Mark Down:  Esc+ M\n",
    "\n",
    "\n",
    "\n",
    "\n",
    "\n",
    "\n"
   ]
  },
  {
   "cell_type": "markdown",
   "metadata": {},
   "source": [
    "### Mark Down:\n",
    "\n",
    "* *Italic Format*\n",
    "* **Bold Format**\n",
    "* ***Bold And Italic***\n",
    "    * Sub point\n",
    "        * sub point\n",
    "    * sub point\n",
    "< img src = \"image.jpg\" >"
   ]
  },
  {
   "cell_type": "markdown",
   "metadata": {},
   "source": [
    "### Python Basics\n"
   ]
  },
  {
   "cell_type": "code",
   "execution_count": 7,
   "metadata": {},
   "outputs": [],
   "source": [
    "### esc+y ----->To convert markdowm cell to code cell"
   ]
  },
  {
   "cell_type": "code",
   "execution_count": 8,
   "metadata": {},
   "outputs": [],
   "source": [
    "# Python is easy to understand\n",
    "# Python is an high level language\n",
    "# Python having more in built libraries and functions.\n",
    "# Python was developed by van Rusom in 1991.\n",
    "\n",
    "\n",
    "\n"
   ]
  },
  {
   "cell_type": "code",
   "execution_count": 15,
   "metadata": {},
   "outputs": [
    {
     "name": "stdout",
     "output_type": "stream",
     "text": [
      "welcometoPython\n"
     ]
    }
   ],
   "source": [
    "print(\"welcome\"\n",
    "     \"to\"\n",
    "     \"Python\")"
   ]
  },
  {
   "cell_type": "code",
   "execution_count": 27,
   "metadata": {},
   "outputs": [
    {
     "name": "stdout",
     "output_type": "stream",
     "text": [
      "10\n",
      "10 20\n"
     ]
    }
   ],
   "source": [
    "a = 10 ### single variable assigning\n",
    "print(a)\n",
    "b = 20\n",
    "print(a,b)"
   ]
  },
  {
   "cell_type": "code",
   "execution_count": 29,
   "metadata": {},
   "outputs": [
    {
     "data": {
      "text/plain": [
       "'niharikaa'"
      ]
     },
     "execution_count": 29,
     "metadata": {},
     "output_type": "execute_result"
    }
   ],
   "source": [
    "a = \"niharikaa\"\n",
    "a"
   ]
  },
  {
   "cell_type": "code",
   "execution_count": 30,
   "metadata": {},
   "outputs": [
    {
     "data": {
      "text/plain": [
       "20"
      ]
     },
     "execution_count": 30,
     "metadata": {},
     "output_type": "execute_result"
    }
   ],
   "source": [
    "a = c = b ## two variable assignment\n",
    "a"
   ]
  },
  {
   "cell_type": "code",
   "execution_count": 38,
   "metadata": {},
   "outputs": [],
   "source": [
    "a,b,c = 10,20,30"
   ]
  },
  {
   "cell_type": "code",
   "execution_count": 39,
   "metadata": {},
   "outputs": [
    {
     "data": {
      "text/plain": [
       "(10, 20, 30)"
      ]
     },
     "execution_count": 39,
     "metadata": {},
     "output_type": "execute_result"
    }
   ],
   "source": [
    "a,b,c"
   ]
  },
  {
   "cell_type": "code",
   "execution_count": 51,
   "metadata": {},
   "outputs": [
    {
     "data": {
      "text/plain": [
       "str"
      ]
     },
     "execution_count": 51,
     "metadata": {},
     "output_type": "execute_result"
    }
   ],
   "source": [
    "## Data type:\n",
    "\n",
    "# int  -----> numerical values ---- 1,2,3,.....\n",
    "# float ----> numerical but decimals ---- 1.2,4.5\n",
    "# string ---> aplhabets,sentences --- a,b,hhhjhs,niha,numericals,floats\n",
    "c = 0.4\n",
    "type(c)\n",
    "f = \"10\"\n",
    "type(f)\n"
   ]
  },
  {
   "cell_type": "code",
   "execution_count": 62,
   "metadata": {},
   "outputs": [
    {
     "data": {
      "text/plain": [
       "int"
      ]
     },
     "execution_count": 62,
     "metadata": {},
     "output_type": "execute_result"
    }
   ],
   "source": [
    "a = float(10)\n",
    "s = \"100\"\n",
    "type(s)\n",
    "b = int(s)\n",
    "type(b)\n"
   ]
  },
  {
   "cell_type": "code",
   "execution_count": 4,
   "metadata": {},
   "outputs": [
    {
     "data": {
      "text/plain": [
       "int"
      ]
     },
     "execution_count": 4,
     "metadata": {},
     "output_type": "execute_result"
    }
   ],
   "source": [
    "### convert the string \"23456\" to integer\n",
    "\n",
    "a = \"23456\"\n",
    "type(a)\n",
    "b = int(a)\n",
    "type(b)\n"
   ]
  },
  {
   "cell_type": "code",
   "execution_count": 5,
   "metadata": {},
   "outputs": [
    {
     "data": {
      "text/plain": [
       "int"
      ]
     },
     "execution_count": 5,
     "metadata": {},
     "output_type": "execute_result"
    }
   ],
   "source": [
    "type(23456)"
   ]
  },
  {
   "cell_type": "markdown",
   "metadata": {},
   "source": [
    "### Print:\n",
    "\n",
    "* print(\"TEXT\")\n",
    "\n",
    "### Variables: \n",
    "* ***Variables can be of any data.***\n",
    "* *Variable is named because the data is will be vary without any fixed data.*\n",
    "* variable names should not begin with special characters,numerial values,_special characters.\n",
    "* variable name can be _,alphabets,_alphabets,_numericals.\n",
    "\n",
    "\n",
    "\n",
    "\n",
    "\n",
    "\n"
   ]
  },
  {
   "cell_type": "code",
   "execution_count": 6,
   "metadata": {},
   "outputs": [
    {
     "name": "stdout",
     "output_type": "stream",
     "text": [
      "Welcome\n"
     ]
    }
   ],
   "source": [
    "print(\"Welcome\")"
   ]
  },
  {
   "cell_type": "code",
   "execution_count": 9,
   "metadata": {},
   "outputs": [
    {
     "name": "stdout",
     "output_type": "stream",
     "text": [
      "10\n"
     ]
    }
   ],
   "source": [
    "a = 10\n",
    "print(a)"
   ]
  },
  {
   "cell_type": "code",
   "execution_count": 12,
   "metadata": {},
   "outputs": [
    {
     "data": {
      "text/plain": [
       "20"
      ]
     },
     "execution_count": 12,
     "metadata": {},
     "output_type": "execute_result"
    }
   ],
   "source": [
    "a = 20\n",
    "a"
   ]
  },
  {
   "cell_type": "markdown",
   "metadata": {},
   "source": [
    "### Data Types:\n",
    "* integer   -----> 1,2,3,4 .... numericals\n",
    "* float     -----> 0.1,0.2,39.4 ....... decimal values\n",
    "* String    -----> \"12abc.4\" ..... any data in quotations will be a string.\n",
    "\n",
    "\n",
    "###### Checking the data type:\n",
    "* type(variable name/data)\n",
    "    * eg: type(10) ---data\n",
    "    * type(a) ---variable name\n",
    "##### Data Type Conversions:\n",
    "\n",
    "* Covert integer to float:\n",
    "    * a = 10 \n"
   ]
  },
  {
   "cell_type": "code",
   "execution_count": 31,
   "metadata": {},
   "outputs": [
    {
     "data": {
      "text/plain": [
       "int"
      ]
     },
     "execution_count": 31,
     "metadata": {},
     "output_type": "execute_result"
    }
   ],
   "source": [
    "a = 10\n",
    "type(a)\n"
   ]
  },
  {
   "cell_type": "code",
   "execution_count": 34,
   "metadata": {},
   "outputs": [
    {
     "data": {
      "text/plain": [
       "10"
      ]
     },
     "execution_count": 34,
     "metadata": {},
     "output_type": "execute_result"
    }
   ],
   "source": [
    "b = float(a)\n",
    "int(b)\n",
    "\n",
    "\n"
   ]
  },
  {
   "cell_type": "code",
   "execution_count": 29,
   "metadata": {},
   "outputs": [
    {
     "data": {
      "text/plain": [
       "10000.0"
      ]
     },
     "execution_count": 29,
     "metadata": {},
     "output_type": "execute_result"
    }
   ],
   "source": [
    "### convert string \"100000\" to float data type:\n",
    "\n",
    "a = \"10000\"\n",
    "#type(a)\n",
    "float(a)\n",
    "\n",
    "\n",
    "\n",
    "\n",
    "\n"
   ]
  },
  {
   "cell_type": "code",
   "execution_count": 35,
   "metadata": {},
   "outputs": [],
   "source": [
    "a = \"abcd10\""
   ]
  },
  {
   "cell_type": "markdown",
   "metadata": {},
   "source": [
    "### Operators: \n",
    "* Operators are used to perform some operations on data.\n",
    "* There are 7 operators in python:\n",
    "    1. Arthimetic Operator ----> used to perform arthimetic operations\n",
    "    2. Assignment Operator ----> used to assign values .\n",
    "    3. Relational Opertor ----> used to find the relation between the data\n",
    "    4. Bitwise Operator\n",
    "    5. Logical Operator  ----> used to perform logical operations\n",
    "    6. Identity operator\n",
    "    7. Membership operator\n",
    "    \n",
    "\n",
    "\n"
   ]
  },
  {
   "cell_type": "code",
   "execution_count": 49,
   "metadata": {},
   "outputs": [
    {
     "data": {
      "text/plain": [
       "100000000000000000000"
      ]
     },
     "execution_count": 49,
     "metadata": {},
     "output_type": "execute_result"
    }
   ],
   "source": [
    "### Arthimetic opertors: addition,subtraction,division,multiplication\n",
    "\n",
    "a,b = 10,20\n",
    "\n",
    "a + b # addition\n",
    "a - b # subtraction\n",
    "a * b # multiplication\n",
    "a // b # Division printing quotient answer before decimal value\n",
    "a / b # divison printing quotient answer with decimal value\n",
    "a % b # modulos --->remainder\n",
    "a ** b # Power  eg: 2**3 --->2*2*2 = 8 ,3**2 ---> 3*3 = 9,4**3 --->4*4*4 =64\n",
    "\n",
    "\n",
    "\n",
    "\n",
    "\n"
   ]
  },
  {
   "cell_type": "code",
   "execution_count": 64,
   "metadata": {},
   "outputs": [
    {
     "data": {
      "text/plain": [
       "2.25"
      ]
     },
     "execution_count": 64,
     "metadata": {},
     "output_type": "execute_result"
    }
   ],
   "source": [
    "### Assignment Operators : +=,-=,*=,//=,/=,**=\n",
    "### In assignment operators the output value will be assigned to left side variable.\n",
    "a = 2 \n",
    "b = 3\n",
    "a += b   # a = a + b ----> a = 2 + 3 ---> a = 5\n",
    "a -= b   # a = a - b ----> a = 5 - 3 ---> a = 2\n",
    "b *= a   # b = b * a ----> b = 3 * 2 ---> b = 6\n",
    "b //= a  # b = b // a ---> b = 6 // 2 ---> b = 3\n",
    "b /= a   # b = b // a ---> b = 3 // 2 ---> b = 1.5\n",
    "b **= a  # b = b ** a ---> b = 1.5 ** 2 --> b = 2.25\n",
    "b"
   ]
  },
  {
   "cell_type": "code",
   "execution_count": 72,
   "metadata": {},
   "outputs": [
    {
     "data": {
      "text/plain": [
       "False"
      ]
     },
     "execution_count": 72,
     "metadata": {},
     "output_type": "execute_result"
    }
   ],
   "source": [
    "### Relational Operators: >,<,>=,<=,==,!=\n",
    "\n",
    "a = 2    # a variable is assigning with 2\n",
    "b = 3    # b variable is assigning with 3\n",
    "a > b   ## 2 > 3 ---> False\n",
    "a < b   ## 2 < 3 ---> True\n",
    "a >= b  ## 2 >= 3 ----> False\n",
    "a <= b  ## True\n",
    "a == b   ## False  == is for comparision,a is comparing with b\n",
    "a != b   ## True   a not equal to b\n",
    "\n",
    "\n",
    "\n",
    "\n",
    "\n"
   ]
  },
  {
   "cell_type": "code",
   "execution_count": null,
   "metadata": {},
   "outputs": [],
   "source": [
    "### Logical Operators: And,Or,not\n",
    "\n",
    "3 and 2\n",
    "\n",
    "3 --- 0011\n",
    "2 --- 0010\n",
    "-------------\n",
    "    0 0 1 0\n",
    "    \n",
    "3 or 2\n",
    "\n",
    "3 -- 0011\n",
    "2 -- 0010\n",
    "---------\n",
    "    0 0 1 1\n",
    "\n",
    "\n",
    "\n",
    "\n",
    "\n",
    "\n",
    "\n",
    "\n"
   ]
  },
  {
   "cell_type": "code",
   "execution_count": null,
   "metadata": {},
   "outputs": [],
   "source": [
    "## And table  ---> any one of the value is 0 o/p will be 0\n",
    "\n",
    "a b     value\n",
    "0 0       0\n",
    "0 1       0\n",
    "1 0       0\n",
    "1 1       1\n",
    "\n",
    "\n",
    "## Or table  ----> any one of the value is 1 o/p will be 1\n",
    "\n",
    "a b    value\n",
    "0 0      0\n",
    "0 1      1\n",
    "1 0      1\n",
    "1 1      1\n",
    "\n",
    "\n",
    "### Not :  for 1 output will be 0 and for 0 output will be 1\n",
    "\n",
    "a  value\n",
    "1   0   False\n",
    "0   1   True\n",
    "\n",
    "\n",
    "\n",
    "binary numbers:  combination of 1 and 0:\n",
    "    \n",
    "     8       4      2       1\n",
    "    2**3    2**2   2**1    2**0\n",
    "    \n",
    "    0        0      0       0       =  0000\n",
    "    \n",
    "    0        0      0       1       =  0001\n",
    "    \n",
    "    0        0      1       0       =  0010\n",
    "    \n",
    "    0        0      1       1       =  0011\n",
    "    \n",
    "0 ---> 0000\n",
    "1 ---> 0001       \n",
    "2 ---> 0010\n",
    "3 ---> 0011\n",
    "4 ---> 0100\n",
    "5 ---> 0101\n",
    "6 ---> 0110\n",
    "7 ---> 0111\n",
    "8 ---> 1000\n",
    "9 ---> 1001\n",
    "10 --> 1010  ---> A\n",
    "11 --> 1011  ---> B\n",
    "12 --> 1100  ---> C\n",
    "13 --> 1101  ---> D\n",
    "14 --> 1110  ---> E\n",
    "15 --> 1111  ---> F\n",
    "\n",
    "2^0 -->1\n",
    "2^1 -->2\n",
    "2^2 -->4 \n",
    "2^3 -->8\n",
    "2^4 -->16\n",
    "2^5 -->32\n",
    "2^6 -->64\n",
    "2^7 -->128\n",
    "2^8 -->256\n",
    "2^9 -->512\n",
    "2^10 ->1024\n",
    "2^11 ->2048\n",
    "2^12 ->4096\n",
    "\n",
    "\n",
    "\n",
    "Binary To Decimal conversion:\n",
    "    \n",
    "    2|35\n",
    "      17  -- 1\n",
    "      8   -- 1\n",
    "      4   -- 0\n",
    "      2   -- 0\n",
    "      1   -- 0\n",
    "      \n",
    "    \n",
    "    35  = 100011\n",
    "\n",
    "Decimal to Binary Conversion:\n",
    "    \n",
    "1  0  0  0  1  1   =  35\n",
    "\n",
    "\n",
    "\n",
    "1*2^5 + 0*2^4 + 0*2^3 + 0*2^2 + 1*2^1 + 1*2^0 \n",
    "\n",
    "32    +    0  +   0   +  0    +   2   +   1     = 35\n",
    "\n",
    "\n",
    "\n",
    "    \n",
    "    \n",
    "    \n",
    "    \n"
   ]
  },
  {
   "cell_type": "code",
   "execution_count": 17,
   "metadata": {},
   "outputs": [
    {
     "data": {
      "text/plain": [
       "2"
      ]
     },
     "execution_count": 17,
     "metadata": {},
     "output_type": "execute_result"
    }
   ],
   "source": [
    "3 and 2 "
   ]
  },
  {
   "cell_type": "code",
   "execution_count": 20,
   "metadata": {},
   "outputs": [
    {
     "data": {
      "text/plain": [
       "3"
      ]
     },
     "execution_count": 20,
     "metadata": {},
     "output_type": "execute_result"
    }
   ],
   "source": [
    "3 or 2"
   ]
  },
  {
   "cell_type": "code",
   "execution_count": 30,
   "metadata": {},
   "outputs": [
    {
     "data": {
      "text/plain": [
       "False"
      ]
     },
     "execution_count": 30,
     "metadata": {},
     "output_type": "execute_result"
    }
   ],
   "source": [
    "not 3"
   ]
  },
  {
   "cell_type": "code",
   "execution_count": 31,
   "metadata": {},
   "outputs": [
    {
     "data": {
      "text/plain": [
       "True"
      ]
     },
     "execution_count": 31,
     "metadata": {},
     "output_type": "execute_result"
    }
   ],
   "source": [
    "not 0"
   ]
  },
  {
   "cell_type": "code",
   "execution_count": null,
   "metadata": {},
   "outputs": [],
   "source": []
  }
 ],
 "metadata": {
  "kernelspec": {
   "display_name": "Python 3",
   "language": "python",
   "name": "python3"
  },
  "language_info": {
   "codemirror_mode": {
    "name": "ipython",
    "version": 3
   },
   "file_extension": ".py",
   "mimetype": "text/x-python",
   "name": "python",
   "nbconvert_exporter": "python",
   "pygments_lexer": "ipython3",
   "version": "3.7.3"
  }
 },
 "nbformat": 4,
 "nbformat_minor": 2
}
