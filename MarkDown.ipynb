{
 "cells": [
  {
   "cell_type": "markdown",
   "metadata": {},
   "source": [
    "# MarkDown:\n",
    "* The Jupyter Notebook is a notebook which can be used to save our text as well as our code.\n",
    "* So the programming with the code and text is called as literature programming.\n",
    "* MarkDown is the text formatting place\n",
    "* Code is the code running place.\n"
   ]
  },
  {
   "cell_type": "markdown",
   "metadata": {},
   "source": [
    "### Key Points to remember:\n",
    "* The Shortcut to convert the code to Markdown ----esc+ m\n",
    "* The shortcut to convert the Markdown to code ---- esc+y\n",
    "* To change the title sizes we use \"#\" \n",
    "    * The size of the title can be varied in 6 #'s\n",
    "    * The \"######\" is the minimum size of the title and \"#\" is the maximum size of the title.\n",
    "* For formating the text to italic style use ---- *\"text\"*\n",
    "    * eg: *Italic*\n",
    "* For formating the text to bold style use ---- ** \"text\"**\n",
    "    * eg: **BOLD**\n",
    "* For formating the text to bold and italic at a time ---- *** \"text\"***\n",
    "    * eg: ***BOLD and ITALIC***\n",
    "* For running the code or the markdown text ---- \"shift+Enter\"\n",
    "* For making points in the text ---- \"- text\"\n",
    "* Inserting a cell above ----  esc+A\n",
    "* Inserting the cell below --- esc+B\n",
    "* For saving the notebook --- ctrl+s\n",
    "* For Deleting the selected cell --- esc+press D twice\n",
    "* For Scrolling up ---- shift + space\n",
    "* For scrolling down --- Space\n",
    "\n",
    "Note: For bold and italic there is no need of giving space after and before the text where as for points and title sizes space required.\n"
   ]
  },
  {
   "cell_type": "code",
   "execution_count": null,
   "metadata": {},
   "outputs": [],
   "source": []
  }
 ],
 "metadata": {
  "kernelspec": {
   "display_name": "Python 3",
   "language": "python",
   "name": "python3"
  },
  "language_info": {
   "codemirror_mode": {
    "name": "ipython",
    "version": 3
   },
   "file_extension": ".py",
   "mimetype": "text/x-python",
   "name": "python",
   "nbconvert_exporter": "python",
   "pygments_lexer": "ipython3",
   "version": "3.7.3"
  }
 },
 "nbformat": 4,
 "nbformat_minor": 2
}
